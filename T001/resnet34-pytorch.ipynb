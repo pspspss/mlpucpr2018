{
 "cells": [
  {
   "cell_type": "code",
   "execution_count": 3,
   "metadata": {},
   "outputs": [],
   "source": [
    "import torch\n",
    "import torch.nn as nn\n",
    "import torch.nn.functional as F\n",
    "import torch.optim as optim\n",
    "import torch.utils.data as data_utils\n",
    "\n",
    "from torch.autograd import Variable\n",
    "from torchvision import datasets, models, transforms"
   ]
  },
  {
   "cell_type": "code",
   "execution_count": 4,
   "metadata": {},
   "outputs": [],
   "source": [
    "import numpy as np\n",
    "import os"
   ]
  },
  {
   "cell_type": "code",
   "execution_count": 5,
   "metadata": {},
   "outputs": [],
   "source": [
    "device = torch.device(\"cuda\" if torch.cuda.is_available() else \"cpu\")"
   ]
  },
  {
   "cell_type": "code",
   "execution_count": 6,
   "metadata": {},
   "outputs": [],
   "source": [
    "data_transforms = {\n",
    "    'train': transforms.Compose([\n",
    "        transforms.RandomResizedCrop(224),\n",
    "        transforms.RandomHorizontalFlip(),\n",
    "        transforms.RandomRotation(30),\n",
    "        transforms.ToTensor(),\n",
    "        transforms.Normalize([0.485, 0.456, 0.406], [0.229, 0.224, 0.225])\n",
    "    ]),\n",
    "    'test': transforms.Compose([\n",
    "        transforms.Resize(224),\n",
    "        transforms.CenterCrop(224),\n",
    "        transforms.ToTensor(),\n",
    "        transforms.Normalize([0.485, 0.456, 0.406], [0.229, 0.224, 0.225])\n",
    "    ])\n",
    "}"
   ]
  },
  {
   "cell_type": "code",
   "execution_count": 7,
   "metadata": {},
   "outputs": [],
   "source": [
    "data_dir = 'data'"
   ]
  },
  {
   "cell_type": "code",
   "execution_count": 8,
   "metadata": {},
   "outputs": [],
   "source": [
    "image_datasets = {x: datasets.ImageFolder(os.path.join(data_dir, x), data_transforms[x]) for x in ['train', 'test']}"
   ]
  },
  {
   "cell_type": "code",
   "execution_count": 9,
   "metadata": {},
   "outputs": [],
   "source": [
    "dataloaders = {x: torch.utils.data.DataLoader(image_datasets[x], batch_size=32, shuffle=True) for x in ['train', 'test']}"
   ]
  },
  {
   "cell_type": "code",
   "execution_count": 10,
   "metadata": {},
   "outputs": [
    {
     "data": {
      "text/plain": [
       "{'train': 793, 'test': 207}"
      ]
     },
     "execution_count": 10,
     "metadata": {},
     "output_type": "execute_result"
    }
   ],
   "source": [
    "dataset_sizes  = {x: len(image_datasets[x]) for x in ['train', 'test']}\n",
    "dataset_sizes"
   ]
  },
  {
   "cell_type": "code",
   "execution_count": 11,
   "metadata": {},
   "outputs": [
    {
     "data": {
      "text/plain": [
       "['cavalo',\n",
       " 'comida',\n",
       " 'dinossauro',\n",
       " 'elefante',\n",
       " 'flor',\n",
       " 'indio',\n",
       " 'montanha',\n",
       " 'monumento',\n",
       " 'onibus',\n",
       " 'praia']"
      ]
     },
     "execution_count": 11,
     "metadata": {},
     "output_type": "execute_result"
    }
   ],
   "source": [
    "class_names = image_datasets['train'].classes\n",
    "class_names"
   ]
  },
  {
   "cell_type": "code",
   "execution_count": 12,
   "metadata": {},
   "outputs": [],
   "source": [
    "model = models.resnet34(pretrained=True)"
   ]
  },
  {
   "cell_type": "code",
   "execution_count": 13,
   "metadata": {},
   "outputs": [],
   "source": [
    "criterion = nn.CrossEntropyLoss()"
   ]
  },
  {
   "cell_type": "code",
   "execution_count": 14,
   "metadata": {},
   "outputs": [],
   "source": [
    "optimizer = optim.Adam(model.parameters(), lr=0.005)"
   ]
  },
  {
   "cell_type": "code",
   "execution_count": 15,
   "metadata": {},
   "outputs": [],
   "source": [
    "def train(model, dataloader, optimizer, criterion, epoch):\n",
    "    model.train()\n",
    "    \n",
    "    for batch_idx, (x, y) in enumerate(dataloader):\n",
    "        x, y = x.to(device), y.to(device)\n",
    "\n",
    "        optimizer.zero_grad()\n",
    "        prediction = model(x)\n",
    "\n",
    "        loss = criterion(prediction, y)\n",
    "        loss.backward()\n",
    "\n",
    "        optimizer.step() \n",
    "        \n",
    "        if batch_idx % 20 == 0:\n",
    "            print('Train Epoch: {} [{}/{} ({:.0f}%)]\\tLoss: {:.6f}'.format(\n",
    "                epoch, batch_idx * len(x), len(dataloader.dataset),\n",
    "                100. * batch_idx / len(dataloader), loss.data.item()))"
   ]
  },
  {
   "cell_type": "code",
   "execution_count": 16,
   "metadata": {},
   "outputs": [],
   "source": [
    "def val(model, dataloader, criterion):\n",
    "    model.eval()\n",
    "    \n",
    "    val_loss = 0\n",
    "    correct = 0\n",
    "    \n",
    "    with torch.no_grad():\n",
    "        for x, y in dataloader:\n",
    "            x, y = x.to(device), y.to(device)\n",
    "            \n",
    "            prediction = model(x)\n",
    "            val_loss += criterion(prediction, y).item()\n",
    "            \n",
    "            y_hat = prediction.max(1, keepdim=True)[1]\n",
    "            correct += y_hat.eq(y.view_as(y_hat)).sum().item()\n",
    "    \n",
    "    val_loss /= len(dataloader.dataset)\n",
    "    \n",
    "    print('\\nTest set: Average loss: {:.4f}, Accuracy: {}/{} ({:.0f}%)\\n'.format(\n",
    "        val_loss, correct, len(dataloader.dataset),\n",
    "        100. * correct / len(dataloader.dataset)))"
   ]
  },
  {
   "cell_type": "code",
   "execution_count": 17,
   "metadata": {},
   "outputs": [],
   "source": [
    "num_ftrs = model.fc.in_features\n",
    "model.fc = nn.Linear(num_ftrs, len(class_names))\n",
    "\n",
    "model.to(device);"
   ]
  },
  {
   "cell_type": "code",
   "execution_count": 20,
   "metadata": {},
   "outputs": [
    {
     "name": "stdout",
     "output_type": "stream",
     "text": [
      "Train Epoch: 1 [0/793 (0%)]\tLoss: 0.967124\n",
      "Train Epoch: 1 [640/793 (80%)]\tLoss: 1.076179\n",
      "\n",
      "Test set: Average loss: 0.0237, Accuracy: 155/207 (75%)\n",
      "\n",
      "Train Epoch: 2 [0/793 (0%)]\tLoss: 0.918668\n",
      "Train Epoch: 2 [640/793 (80%)]\tLoss: 0.976166\n",
      "\n",
      "Test set: Average loss: 0.0212, Accuracy: 162/207 (78%)\n",
      "\n",
      "Train Epoch: 3 [0/793 (0%)]\tLoss: 0.986874\n",
      "Train Epoch: 3 [640/793 (80%)]\tLoss: 0.997521\n",
      "\n",
      "Test set: Average loss: 0.0318, Accuracy: 140/207 (68%)\n",
      "\n",
      "Train Epoch: 4 [0/793 (0%)]\tLoss: 0.664081\n",
      "Train Epoch: 4 [640/793 (80%)]\tLoss: 0.846328\n",
      "\n",
      "Test set: Average loss: 0.0218, Accuracy: 167/207 (81%)\n",
      "\n",
      "Train Epoch: 5 [0/793 (0%)]\tLoss: 0.885187\n",
      "Train Epoch: 5 [640/793 (80%)]\tLoss: 0.679791\n",
      "\n",
      "Test set: Average loss: 0.0199, Accuracy: 167/207 (81%)\n",
      "\n",
      "Train Epoch: 6 [0/793 (0%)]\tLoss: 0.642986\n",
      "Train Epoch: 6 [640/793 (80%)]\tLoss: 0.797770\n",
      "\n",
      "Test set: Average loss: 0.0205, Accuracy: 167/207 (81%)\n",
      "\n",
      "Train Epoch: 7 [0/793 (0%)]\tLoss: 0.569787\n",
      "Train Epoch: 7 [640/793 (80%)]\tLoss: 1.054065\n",
      "\n",
      "Test set: Average loss: 0.0218, Accuracy: 161/207 (78%)\n",
      "\n",
      "Train Epoch: 8 [0/793 (0%)]\tLoss: 1.024168\n",
      "Train Epoch: 8 [640/793 (80%)]\tLoss: 0.591427\n",
      "\n",
      "Test set: Average loss: 0.0170, Accuracy: 171/207 (83%)\n",
      "\n",
      "Train Epoch: 9 [0/793 (0%)]\tLoss: 0.691759\n",
      "Train Epoch: 9 [640/793 (80%)]\tLoss: 1.049540\n",
      "\n",
      "Test set: Average loss: 0.0145, Accuracy: 179/207 (86%)\n",
      "\n",
      "Train Epoch: 10 [0/793 (0%)]\tLoss: 0.820806\n",
      "Train Epoch: 10 [640/793 (80%)]\tLoss: 0.493762\n",
      "\n",
      "Test set: Average loss: 0.0143, Accuracy: 181/207 (87%)\n",
      "\n",
      "Train Epoch: 11 [0/793 (0%)]\tLoss: 0.841235\n",
      "Train Epoch: 11 [640/793 (80%)]\tLoss: 0.565959\n",
      "\n",
      "Test set: Average loss: 0.0141, Accuracy: 182/207 (88%)\n",
      "\n",
      "Train Epoch: 12 [0/793 (0%)]\tLoss: 0.482181\n",
      "Train Epoch: 12 [640/793 (80%)]\tLoss: 0.277081\n",
      "\n",
      "Test set: Average loss: 0.0112, Accuracy: 189/207 (91%)\n",
      "\n",
      "Train Epoch: 13 [0/793 (0%)]\tLoss: 0.304492\n",
      "Train Epoch: 13 [640/793 (80%)]\tLoss: 0.589337\n",
      "\n",
      "Test set: Average loss: 0.0140, Accuracy: 178/207 (86%)\n",
      "\n",
      "Train Epoch: 14 [0/793 (0%)]\tLoss: 0.655349\n",
      "Train Epoch: 14 [640/793 (80%)]\tLoss: 0.373379\n",
      "\n",
      "Test set: Average loss: 0.0132, Accuracy: 179/207 (86%)\n",
      "\n",
      "Train Epoch: 15 [0/793 (0%)]\tLoss: 0.487597\n",
      "Train Epoch: 15 [640/793 (80%)]\tLoss: 0.510196\n",
      "\n",
      "Test set: Average loss: 0.0119, Accuracy: 189/207 (91%)\n",
      "\n",
      "Train Epoch: 16 [0/793 (0%)]\tLoss: 0.627669\n",
      "Train Epoch: 16 [640/793 (80%)]\tLoss: 0.719901\n",
      "\n",
      "Test set: Average loss: 0.0134, Accuracy: 184/207 (89%)\n",
      "\n",
      "Train Epoch: 17 [0/793 (0%)]\tLoss: 0.322474\n",
      "Train Epoch: 17 [640/793 (80%)]\tLoss: 0.623029\n",
      "\n",
      "Test set: Average loss: 0.0099, Accuracy: 186/207 (90%)\n",
      "\n",
      "Train Epoch: 18 [0/793 (0%)]\tLoss: 0.176833\n",
      "Train Epoch: 18 [640/793 (80%)]\tLoss: 0.515846\n",
      "\n",
      "Test set: Average loss: 0.0087, Accuracy: 192/207 (93%)\n",
      "\n",
      "Train Epoch: 19 [0/793 (0%)]\tLoss: 0.335191\n",
      "Train Epoch: 19 [640/793 (80%)]\tLoss: 0.274131\n",
      "\n",
      "Test set: Average loss: 0.0096, Accuracy: 191/207 (92%)\n",
      "\n",
      "Train Epoch: 20 [0/793 (0%)]\tLoss: 0.236005\n",
      "Train Epoch: 20 [640/793 (80%)]\tLoss: 0.781861\n",
      "\n",
      "Test set: Average loss: 0.0106, Accuracy: 183/207 (88%)\n",
      "\n",
      "Train Epoch: 21 [0/793 (0%)]\tLoss: 0.377213\n",
      "Train Epoch: 21 [640/793 (80%)]\tLoss: 0.506522\n",
      "\n",
      "Test set: Average loss: 0.0101, Accuracy: 190/207 (92%)\n",
      "\n",
      "Train Epoch: 22 [0/793 (0%)]\tLoss: 0.512204\n",
      "Train Epoch: 22 [640/793 (80%)]\tLoss: 0.944125\n",
      "\n",
      "Test set: Average loss: 0.0093, Accuracy: 190/207 (92%)\n",
      "\n",
      "Train Epoch: 23 [0/793 (0%)]\tLoss: 0.222699\n",
      "Train Epoch: 23 [640/793 (80%)]\tLoss: 0.447428\n",
      "\n",
      "Test set: Average loss: 0.0087, Accuracy: 190/207 (92%)\n",
      "\n",
      "Train Epoch: 24 [0/793 (0%)]\tLoss: 0.368520\n",
      "Train Epoch: 24 [640/793 (80%)]\tLoss: 0.432456\n",
      "\n",
      "Test set: Average loss: 0.0088, Accuracy: 193/207 (93%)\n",
      "\n",
      "Train Epoch: 25 [0/793 (0%)]\tLoss: 0.434193\n",
      "Train Epoch: 25 [640/793 (80%)]\tLoss: 0.464277\n",
      "\n",
      "Test set: Average loss: 0.0090, Accuracy: 191/207 (92%)\n",
      "\n",
      "Train Epoch: 26 [0/793 (0%)]\tLoss: 0.540654\n",
      "Train Epoch: 26 [640/793 (80%)]\tLoss: 0.373773\n",
      "\n",
      "Test set: Average loss: 0.0087, Accuracy: 189/207 (91%)\n",
      "\n",
      "Train Epoch: 27 [0/793 (0%)]\tLoss: 0.564125\n",
      "Train Epoch: 27 [640/793 (80%)]\tLoss: 0.588319\n",
      "\n",
      "Test set: Average loss: 0.0078, Accuracy: 192/207 (93%)\n",
      "\n",
      "Train Epoch: 28 [0/793 (0%)]\tLoss: 0.247662\n",
      "Train Epoch: 28 [640/793 (80%)]\tLoss: 0.134270\n",
      "\n",
      "Test set: Average loss: 0.0091, Accuracy: 193/207 (93%)\n",
      "\n",
      "Train Epoch: 29 [0/793 (0%)]\tLoss: 0.407250\n",
      "Train Epoch: 29 [640/793 (80%)]\tLoss: 0.483048\n",
      "\n",
      "Test set: Average loss: 0.0086, Accuracy: 192/207 (93%)\n",
      "\n",
      "Train Epoch: 30 [0/793 (0%)]\tLoss: 0.338041\n",
      "Train Epoch: 30 [640/793 (80%)]\tLoss: 0.600270\n",
      "\n",
      "Test set: Average loss: 0.0082, Accuracy: 191/207 (92%)\n",
      "\n"
     ]
    }
   ],
   "source": [
    "for epoch in range(1, 30+1):\n",
    "    train(model, dataloaders['train'], optimizer, criterion, epoch)\n",
    "    val(model, dataloaders['test'], criterion)\n",
    "    for param_group in optimizer.param_groups:\n",
    "        param_group['lr'] *= 0.9"
   ]
  },
  {
   "cell_type": "code",
   "execution_count": 24,
   "metadata": {},
   "outputs": [
    {
     "name": "stdout",
     "output_type": "stream",
     "text": [
      "Train Epoch: 1 [0/793 (0%)]\tLoss: 0.122392\n",
      "Train Epoch: 1 [640/793 (80%)]\tLoss: 0.305244\n",
      "\n",
      "Test set: Average loss: 0.0074, Accuracy: 191/207 (92%)\n",
      "\n",
      "Train Epoch: 2 [0/793 (0%)]\tLoss: 0.327857\n",
      "Train Epoch: 2 [640/793 (80%)]\tLoss: 0.290686\n",
      "\n",
      "Test set: Average loss: 0.0072, Accuracy: 190/207 (92%)\n",
      "\n",
      "Train Epoch: 3 [0/793 (0%)]\tLoss: 0.163602\n",
      "Train Epoch: 3 [640/793 (80%)]\tLoss: 0.478039\n",
      "\n",
      "Test set: Average loss: 0.0074, Accuracy: 191/207 (92%)\n",
      "\n",
      "Train Epoch: 4 [0/793 (0%)]\tLoss: 0.281619\n",
      "Train Epoch: 4 [640/793 (80%)]\tLoss: 0.273790\n",
      "\n",
      "Test set: Average loss: 0.0077, Accuracy: 191/207 (92%)\n",
      "\n",
      "Train Epoch: 5 [0/793 (0%)]\tLoss: 0.417456\n",
      "Train Epoch: 5 [640/793 (80%)]\tLoss: 0.258530\n",
      "\n",
      "Test set: Average loss: 0.0074, Accuracy: 190/207 (92%)\n",
      "\n"
     ]
    }
   ],
   "source": [
    "for epoch in range(1, 5+1):\n",
    "    train(model, dataloaders['train'], optimizer, criterion, epoch)\n",
    "    val(model, dataloaders['test'], criterion)\n",
    "    for param_group in optimizer.param_groups:\n",
    "        param_group['lr'] *= 0.33"
   ]
  },
  {
   "cell_type": "code",
   "execution_count": null,
   "metadata": {},
   "outputs": [],
   "source": []
  }
 ],
 "metadata": {
  "kernelspec": {
   "display_name": "Python 3",
   "language": "python",
   "name": "python3"
  },
  "language_info": {
   "codemirror_mode": {
    "name": "ipython",
    "version": 3
   },
   "file_extension": ".py",
   "mimetype": "text/x-python",
   "name": "python",
   "nbconvert_exporter": "python",
   "pygments_lexer": "ipython3",
   "version": "3.6.6"
  }
 },
 "nbformat": 4,
 "nbformat_minor": 2
}
