{
 "cells": [
  {
   "cell_type": "code",
   "execution_count": 1,
   "metadata": {},
   "outputs": [],
   "source": [
    "import torch\n",
    "import torch.nn as nn\n",
    "import torch.nn.functional as F\n",
    "import torch.optim as optim\n",
    "import torch.utils.data as data_utils\n",
    "\n",
    "from torch.autograd import Variable\n",
    "from torchvision import datasets, models, transforms"
   ]
  },
  {
   "cell_type": "code",
   "execution_count": 2,
   "metadata": {},
   "outputs": [],
   "source": [
    "import numpy as np\n",
    "import os"
   ]
  },
  {
   "cell_type": "code",
   "execution_count": 3,
   "metadata": {},
   "outputs": [],
   "source": [
    "device = torch.device(\"cuda\" if torch.cuda.is_available() else \"cpu\")"
   ]
  },
  {
   "cell_type": "code",
   "execution_count": 4,
   "metadata": {},
   "outputs": [],
   "source": [
    "data_transforms = {\n",
    "    'train': transforms.Compose([\n",
    "        transforms.RandomResizedCrop(224),\n",
    "        transforms.RandomHorizontalFlip(),\n",
    "        transforms.RandomRotation(30),\n",
    "        transforms.ToTensor(),\n",
    "        transforms.Normalize([0.485, 0.456, 0.406], [0.229, 0.224, 0.225])\n",
    "    ]),\n",
    "    'test': transforms.Compose([\n",
    "        transforms.Resize(224),\n",
    "        transforms.CenterCrop(224),\n",
    "        transforms.ToTensor(),\n",
    "        transforms.Normalize([0.485, 0.456, 0.406], [0.229, 0.224, 0.225])\n",
    "    ])\n",
    "}"
   ]
  },
  {
   "cell_type": "code",
   "execution_count": 5,
   "metadata": {},
   "outputs": [],
   "source": [
    "data_dir = 'data'"
   ]
  },
  {
   "cell_type": "code",
   "execution_count": 6,
   "metadata": {},
   "outputs": [],
   "source": [
    "image_datasets = {x: datasets.ImageFolder(os.path.join(data_dir, x), data_transforms[x]) for x in ['train', 'test']}"
   ]
  },
  {
   "cell_type": "code",
   "execution_count": 7,
   "metadata": {},
   "outputs": [],
   "source": [
    "dataloaders = {x: torch.utils.data.DataLoader(image_datasets[x], batch_size=32, shuffle=True) for x in ['train', 'test']}"
   ]
  },
  {
   "cell_type": "code",
   "execution_count": 8,
   "metadata": {},
   "outputs": [
    {
     "data": {
      "text/plain": [
       "{'train': 793, 'test': 207}"
      ]
     },
     "execution_count": 8,
     "metadata": {},
     "output_type": "execute_result"
    }
   ],
   "source": [
    "dataset_sizes  = {x: len(image_datasets[x]) for x in ['train', 'test']}\n",
    "dataset_sizes"
   ]
  },
  {
   "cell_type": "code",
   "execution_count": 9,
   "metadata": {},
   "outputs": [
    {
     "data": {
      "text/plain": [
       "['cavalo',\n",
       " 'comida',\n",
       " 'dinossauro',\n",
       " 'elefante',\n",
       " 'flor',\n",
       " 'indio',\n",
       " 'montanha',\n",
       " 'monumento',\n",
       " 'onibus',\n",
       " 'praia']"
      ]
     },
     "execution_count": 9,
     "metadata": {},
     "output_type": "execute_result"
    }
   ],
   "source": [
    "class_names = image_datasets['train'].classes\n",
    "class_names"
   ]
  },
  {
   "cell_type": "code",
   "execution_count": 10,
   "metadata": {},
   "outputs": [],
   "source": [
    "model = models.resnet18(pretrained=True)"
   ]
  },
  {
   "cell_type": "code",
   "execution_count": 11,
   "metadata": {},
   "outputs": [],
   "source": [
    "criterion = nn.CrossEntropyLoss()"
   ]
  },
  {
   "cell_type": "code",
   "execution_count": 12,
   "metadata": {},
   "outputs": [],
   "source": [
    "optimizer = optim.Adam(model.parameters(), lr=0.005)"
   ]
  },
  {
   "cell_type": "code",
   "execution_count": 13,
   "metadata": {},
   "outputs": [],
   "source": [
    "def train(model, dataloader, optimizer, criterion, epoch):\n",
    "    model.train()\n",
    "    \n",
    "    for batch_idx, (x, y) in enumerate(dataloader):\n",
    "        x, y = x.to(device), y.to(device)\n",
    "\n",
    "        optimizer.zero_grad()\n",
    "        prediction = model(x)\n",
    "\n",
    "        loss = criterion(prediction, y)\n",
    "        loss.backward()\n",
    "\n",
    "        optimizer.step() \n",
    "        \n",
    "        if batch_idx % 20 == 0:\n",
    "            print('Train Epoch: {} [{}/{} ({:.0f}%)]\\tLoss: {:.6f}'.format(\n",
    "                epoch, batch_idx * len(x), len(dataloader.dataset),\n",
    "                100. * batch_idx / len(dataloader), loss.data.item()))"
   ]
  },
  {
   "cell_type": "code",
   "execution_count": 14,
   "metadata": {},
   "outputs": [],
   "source": [
    "def val(model, dataloader, criterion):\n",
    "    model.eval()\n",
    "    \n",
    "    val_loss = 0\n",
    "    correct = 0\n",
    "    \n",
    "    with torch.no_grad():\n",
    "        for x, y in dataloader:\n",
    "            x, y = x.to(device), y.to(device)\n",
    "            \n",
    "            prediction = model(x)\n",
    "            val_loss += criterion(prediction, y).item()\n",
    "            \n",
    "            y_hat = prediction.max(1, keepdim=True)[1]\n",
    "            correct += y_hat.eq(y.view_as(y_hat)).sum().item()\n",
    "    \n",
    "    val_loss /= len(dataloader.dataset)\n",
    "    \n",
    "    print('\\nTest set: Average loss: {:.4f}, Accuracy: {}/{} ({:.0f}%)\\n'.format(\n",
    "        val_loss, correct, len(dataloader.dataset),\n",
    "        100. * correct / len(dataloader.dataset)))"
   ]
  },
  {
   "cell_type": "code",
   "execution_count": 15,
   "metadata": {},
   "outputs": [],
   "source": [
    "num_ftrs = model.fc.in_features\n",
    "model.fc = nn.Linear(num_ftrs, len(class_names))\n",
    "\n",
    "model.to(device);"
   ]
  },
  {
   "cell_type": "code",
   "execution_count": 18,
   "metadata": {},
   "outputs": [
    {
     "name": "stdout",
     "output_type": "stream",
     "text": [
      "Train Epoch: 1 [0/793 (0%)]\tLoss: 0.383796\n",
      "Train Epoch: 1 [640/793 (80%)]\tLoss: 0.307263\n",
      "\n",
      "Test set: Average loss: 0.0090, Accuracy: 194/207 (94%)\n",
      "\n",
      "Train Epoch: 2 [0/793 (0%)]\tLoss: 0.411605\n",
      "Train Epoch: 2 [640/793 (80%)]\tLoss: 0.582151\n",
      "\n",
      "Test set: Average loss: 0.0097, Accuracy: 190/207 (92%)\n",
      "\n",
      "Train Epoch: 3 [0/793 (0%)]\tLoss: 0.376951\n",
      "Train Epoch: 3 [640/793 (80%)]\tLoss: 0.245059\n",
      "\n",
      "Test set: Average loss: 0.0096, Accuracy: 194/207 (94%)\n",
      "\n",
      "Train Epoch: 4 [0/793 (0%)]\tLoss: 0.512046\n",
      "Train Epoch: 4 [640/793 (80%)]\tLoss: 0.200015\n",
      "\n",
      "Test set: Average loss: 0.0100, Accuracy: 191/207 (92%)\n",
      "\n",
      "Train Epoch: 5 [0/793 (0%)]\tLoss: 0.361526\n",
      "Train Epoch: 5 [640/793 (80%)]\tLoss: 0.264181\n",
      "\n",
      "Test set: Average loss: 0.0088, Accuracy: 193/207 (93%)\n",
      "\n",
      "Train Epoch: 6 [0/793 (0%)]\tLoss: 0.384814\n",
      "Train Epoch: 6 [640/793 (80%)]\tLoss: 0.413308\n",
      "\n",
      "Test set: Average loss: 0.0087, Accuracy: 193/207 (93%)\n",
      "\n",
      "Train Epoch: 7 [0/793 (0%)]\tLoss: 0.422129\n",
      "Train Epoch: 7 [640/793 (80%)]\tLoss: 0.246172\n",
      "\n",
      "Test set: Average loss: 0.0092, Accuracy: 191/207 (92%)\n",
      "\n",
      "Train Epoch: 8 [0/793 (0%)]\tLoss: 0.416863\n",
      "Train Epoch: 8 [640/793 (80%)]\tLoss: 0.313582\n",
      "\n",
      "Test set: Average loss: 0.0093, Accuracy: 190/207 (92%)\n",
      "\n",
      "Train Epoch: 9 [0/793 (0%)]\tLoss: 0.456439\n",
      "Train Epoch: 9 [640/793 (80%)]\tLoss: 0.456229\n",
      "\n",
      "Test set: Average loss: 0.0100, Accuracy: 191/207 (92%)\n",
      "\n",
      "Train Epoch: 10 [0/793 (0%)]\tLoss: 0.503648\n",
      "Train Epoch: 10 [640/793 (80%)]\tLoss: 0.498560\n",
      "\n",
      "Test set: Average loss: 0.0089, Accuracy: 194/207 (94%)\n",
      "\n",
      "Train Epoch: 11 [0/793 (0%)]\tLoss: 0.301691\n",
      "Train Epoch: 11 [640/793 (80%)]\tLoss: 0.262865\n",
      "\n",
      "Test set: Average loss: 0.0098, Accuracy: 194/207 (94%)\n",
      "\n",
      "Train Epoch: 12 [0/793 (0%)]\tLoss: 0.559561\n",
      "Train Epoch: 12 [640/793 (80%)]\tLoss: 0.352944\n",
      "\n",
      "Test set: Average loss: 0.0092, Accuracy: 190/207 (92%)\n",
      "\n",
      "Train Epoch: 13 [0/793 (0%)]\tLoss: 0.862240\n",
      "Train Epoch: 13 [640/793 (80%)]\tLoss: 0.221261\n",
      "\n",
      "Test set: Average loss: 0.0091, Accuracy: 190/207 (92%)\n",
      "\n",
      "Train Epoch: 14 [0/793 (0%)]\tLoss: 0.897804\n",
      "Train Epoch: 14 [640/793 (80%)]\tLoss: 0.773327\n",
      "\n",
      "Test set: Average loss: 0.0089, Accuracy: 194/207 (94%)\n",
      "\n",
      "Train Epoch: 15 [0/793 (0%)]\tLoss: 0.455718\n",
      "Train Epoch: 15 [640/793 (80%)]\tLoss: 0.184164\n",
      "\n",
      "Test set: Average loss: 0.0093, Accuracy: 192/207 (93%)\n",
      "\n",
      "Train Epoch: 16 [0/793 (0%)]\tLoss: 0.308285\n",
      "Train Epoch: 16 [640/793 (80%)]\tLoss: 0.312618\n",
      "\n",
      "Test set: Average loss: 0.0090, Accuracy: 193/207 (93%)\n",
      "\n",
      "Train Epoch: 17 [0/793 (0%)]\tLoss: 0.232937\n",
      "Train Epoch: 17 [640/793 (80%)]\tLoss: 0.360585\n",
      "\n",
      "Test set: Average loss: 0.0098, Accuracy: 191/207 (92%)\n",
      "\n",
      "Train Epoch: 18 [0/793 (0%)]\tLoss: 0.186562\n",
      "Train Epoch: 18 [640/793 (80%)]\tLoss: 0.493040\n",
      "\n",
      "Test set: Average loss: 0.0101, Accuracy: 195/207 (94%)\n",
      "\n",
      "Train Epoch: 19 [0/793 (0%)]\tLoss: 0.726669\n",
      "Train Epoch: 19 [640/793 (80%)]\tLoss: 0.478844\n",
      "\n",
      "Test set: Average loss: 0.0096, Accuracy: 191/207 (92%)\n",
      "\n",
      "Train Epoch: 20 [0/793 (0%)]\tLoss: 0.346414\n",
      "Train Epoch: 20 [640/793 (80%)]\tLoss: 0.221763\n",
      "\n",
      "Test set: Average loss: 0.0091, Accuracy: 190/207 (92%)\n",
      "\n",
      "Train Epoch: 21 [0/793 (0%)]\tLoss: 0.285484\n",
      "Train Epoch: 21 [640/793 (80%)]\tLoss: 0.534712\n",
      "\n",
      "Test set: Average loss: 0.0093, Accuracy: 192/207 (93%)\n",
      "\n",
      "Train Epoch: 22 [0/793 (0%)]\tLoss: 0.355658\n",
      "Train Epoch: 22 [640/793 (80%)]\tLoss: 0.387082\n",
      "\n",
      "Test set: Average loss: 0.0089, Accuracy: 193/207 (93%)\n",
      "\n",
      "Train Epoch: 23 [0/793 (0%)]\tLoss: 0.403230\n",
      "Train Epoch: 23 [640/793 (80%)]\tLoss: 0.542280\n",
      "\n",
      "Test set: Average loss: 0.0088, Accuracy: 191/207 (92%)\n",
      "\n",
      "Train Epoch: 24 [0/793 (0%)]\tLoss: 0.174722\n",
      "Train Epoch: 24 [640/793 (80%)]\tLoss: 0.533691\n",
      "\n",
      "Test set: Average loss: 0.0096, Accuracy: 190/207 (92%)\n",
      "\n",
      "Train Epoch: 25 [0/793 (0%)]\tLoss: 0.530895\n",
      "Train Epoch: 25 [640/793 (80%)]\tLoss: 0.165655\n",
      "\n",
      "Test set: Average loss: 0.0088, Accuracy: 192/207 (93%)\n",
      "\n",
      "Train Epoch: 26 [0/793 (0%)]\tLoss: 0.427586\n",
      "Train Epoch: 26 [640/793 (80%)]\tLoss: 0.289854\n",
      "\n",
      "Test set: Average loss: 0.0091, Accuracy: 193/207 (93%)\n",
      "\n",
      "Train Epoch: 27 [0/793 (0%)]\tLoss: 0.300925\n",
      "Train Epoch: 27 [640/793 (80%)]\tLoss: 0.644827\n",
      "\n",
      "Test set: Average loss: 0.0095, Accuracy: 193/207 (93%)\n",
      "\n",
      "Train Epoch: 28 [0/793 (0%)]\tLoss: 0.313158\n",
      "Train Epoch: 28 [640/793 (80%)]\tLoss: 0.483042\n",
      "\n",
      "Test set: Average loss: 0.0087, Accuracy: 192/207 (93%)\n",
      "\n",
      "Train Epoch: 29 [0/793 (0%)]\tLoss: 0.643653\n",
      "Train Epoch: 29 [640/793 (80%)]\tLoss: 0.789158\n",
      "\n",
      "Test set: Average loss: 0.0088, Accuracy: 193/207 (93%)\n",
      "\n",
      "Train Epoch: 30 [0/793 (0%)]\tLoss: 0.622768\n",
      "Train Epoch: 30 [640/793 (80%)]\tLoss: 0.460485\n",
      "\n",
      "Test set: Average loss: 0.0097, Accuracy: 193/207 (93%)\n",
      "\n"
     ]
    }
   ],
   "source": [
    "for epoch in range(1, 30+1):\n",
    "    train(model, dataloaders['train'], optimizer, criterion, epoch)\n",
    "    val(model, dataloaders['test'], criterion)\n",
    "    for param_group in optimizer.param_groups:\n",
    "        param_group['lr'] *= 0.9"
   ]
  },
  {
   "cell_type": "code",
   "execution_count": 19,
   "metadata": {},
   "outputs": [
    {
     "name": "stdout",
     "output_type": "stream",
     "text": [
      "Train Epoch: 1 [0/793 (0%)]\tLoss: 0.446304\n",
      "Train Epoch: 1 [640/793 (80%)]\tLoss: 0.401269\n",
      "\n",
      "Test set: Average loss: 0.0097, Accuracy: 190/207 (92%)\n",
      "\n",
      "Train Epoch: 2 [0/793 (0%)]\tLoss: 0.509090\n",
      "Train Epoch: 2 [640/793 (80%)]\tLoss: 0.292777\n",
      "\n",
      "Test set: Average loss: 0.0100, Accuracy: 193/207 (93%)\n",
      "\n",
      "Train Epoch: 3 [0/793 (0%)]\tLoss: 0.190211\n",
      "Train Epoch: 3 [640/793 (80%)]\tLoss: 0.533879\n",
      "\n",
      "Test set: Average loss: 0.0089, Accuracy: 191/207 (92%)\n",
      "\n",
      "Train Epoch: 4 [0/793 (0%)]\tLoss: 0.569277\n",
      "Train Epoch: 4 [640/793 (80%)]\tLoss: 0.236288\n",
      "\n",
      "Test set: Average loss: 0.0092, Accuracy: 192/207 (93%)\n",
      "\n",
      "Train Epoch: 5 [0/793 (0%)]\tLoss: 0.261837\n",
      "Train Epoch: 5 [640/793 (80%)]\tLoss: 0.508072\n",
      "\n",
      "Test set: Average loss: 0.0086, Accuracy: 193/207 (93%)\n",
      "\n"
     ]
    }
   ],
   "source": [
    "for epoch in range(1, 5+1):\n",
    "    train(model, dataloaders['train'], optimizer, criterion, epoch)\n",
    "    val(model, dataloaders['test'], criterion)\n",
    "    for param_group in optimizer.param_groups:\n",
    "        param_group['lr'] *= 0.33"
   ]
  },
  {
   "cell_type": "code",
   "execution_count": null,
   "metadata": {},
   "outputs": [],
   "source": []
  }
 ],
 "metadata": {
  "kernelspec": {
   "display_name": "Python 3",
   "language": "python",
   "name": "python3"
  },
  "language_info": {
   "codemirror_mode": {
    "name": "ipython",
    "version": 3
   },
   "file_extension": ".py",
   "mimetype": "text/x-python",
   "name": "python",
   "nbconvert_exporter": "python",
   "pygments_lexer": "ipython3",
   "version": "3.6.6"
  }
 },
 "nbformat": 4,
 "nbformat_minor": 2
}
