{
 "cells": [
  {
   "cell_type": "code",
   "execution_count": 1,
   "metadata": {},
   "outputs": [],
   "source": [
    "import torch\n",
    "import torch.nn as nn\n",
    "import torch.nn.functional as F\n",
    "import torch.optim as optim\n",
    "import torch.utils.data as data_utils\n",
    "\n",
    "from torch.autograd import Variable\n",
    "from torchvision import datasets, models, transforms"
   ]
  },
  {
   "cell_type": "code",
   "execution_count": 2,
   "metadata": {},
   "outputs": [],
   "source": [
    "import numpy as np\n",
    "import os"
   ]
  },
  {
   "cell_type": "code",
   "execution_count": 3,
   "metadata": {},
   "outputs": [],
   "source": [
    "device = torch.device(\"cuda\" if torch.cuda.is_available() else \"cpu\")"
   ]
  },
  {
   "cell_type": "code",
   "execution_count": 4,
   "metadata": {},
   "outputs": [],
   "source": [
    "data_transforms = {\n",
    "    'train': transforms.Compose([\n",
    "        transforms.RandomResizedCrop(224),\n",
    "        transforms.RandomHorizontalFlip(),\n",
    "        transforms.RandomRotation(30),\n",
    "        transforms.ToTensor(),\n",
    "        transforms.Normalize([0.485, 0.456, 0.406], [0.229, 0.224, 0.225])\n",
    "    ]),\n",
    "    'test': transforms.Compose([\n",
    "        transforms.Resize(224),\n",
    "        transforms.CenterCrop(224),\n",
    "        transforms.ToTensor(),\n",
    "        transforms.Normalize([0.485, 0.456, 0.406], [0.229, 0.224, 0.225])\n",
    "    ])\n",
    "}"
   ]
  },
  {
   "cell_type": "code",
   "execution_count": 5,
   "metadata": {},
   "outputs": [],
   "source": [
    "data_dir = 'data'"
   ]
  },
  {
   "cell_type": "code",
   "execution_count": 6,
   "metadata": {},
   "outputs": [],
   "source": [
    "image_datasets = {x: datasets.ImageFolder(os.path.join(data_dir, x), data_transforms[x]) for x in ['train', 'test']}"
   ]
  },
  {
   "cell_type": "code",
   "execution_count": 7,
   "metadata": {},
   "outputs": [],
   "source": [
    "dataloaders = {x: torch.utils.data.DataLoader(image_datasets[x], batch_size=32, shuffle=True) for x in ['train', 'test']}"
   ]
  },
  {
   "cell_type": "code",
   "execution_count": 8,
   "metadata": {},
   "outputs": [
    {
     "data": {
      "text/plain": [
       "{'train': 793, 'test': 207}"
      ]
     },
     "execution_count": 8,
     "metadata": {},
     "output_type": "execute_result"
    }
   ],
   "source": [
    "dataset_sizes  = {x: len(image_datasets[x]) for x in ['train', 'test']}\n",
    "dataset_sizes"
   ]
  },
  {
   "cell_type": "code",
   "execution_count": 9,
   "metadata": {},
   "outputs": [
    {
     "data": {
      "text/plain": [
       "['cavalo',\n",
       " 'comida',\n",
       " 'dinossauro',\n",
       " 'elefante',\n",
       " 'flor',\n",
       " 'indio',\n",
       " 'montanha',\n",
       " 'monumento',\n",
       " 'onibus',\n",
       " 'praia']"
      ]
     },
     "execution_count": 9,
     "metadata": {},
     "output_type": "execute_result"
    }
   ],
   "source": [
    "class_names = image_datasets['train'].classes\n",
    "class_names"
   ]
  },
  {
   "cell_type": "code",
   "execution_count": 10,
   "metadata": {},
   "outputs": [],
   "source": [
    "model = models.resnet18(pretrained=True)"
   ]
  },
  {
   "cell_type": "code",
   "execution_count": 11,
   "metadata": {},
   "outputs": [],
   "source": [
    "criterion = nn.CrossEntropyLoss()"
   ]
  },
  {
   "cell_type": "code",
   "execution_count": 12,
   "metadata": {},
   "outputs": [],
   "source": [
    "optimizer = optim.Adam(model.parameters(), lr=0.005)"
   ]
  },
  {
   "cell_type": "code",
   "execution_count": 13,
   "metadata": {},
   "outputs": [],
   "source": [
    "def train(model, dataloader, optimizer, criterion, epoch):\n",
    "    model.train()\n",
    "    \n",
    "    for batch_idx, (x, y) in enumerate(dataloader):\n",
    "        x, y = x.to(device), y.to(device)\n",
    "\n",
    "        optimizer.zero_grad()\n",
    "        prediction = model(x)\n",
    "\n",
    "        loss = criterion(prediction, y)\n",
    "        loss.backward()\n",
    "\n",
    "        optimizer.step() \n",
    "        \n",
    "        if batch_idx % 20 == 0:\n",
    "            print('Train Epoch: {} [{}/{} ({:.0f}%)]\\tLoss: {:.6f}'.format(\n",
    "                epoch, batch_idx * len(x), len(dataloader.dataset),\n",
    "                100. * batch_idx / len(dataloader), loss.data.item()))"
   ]
  },
  {
   "cell_type": "code",
   "execution_count": 14,
   "metadata": {},
   "outputs": [],
   "source": [
    "def val(model, dataloader, criterion):\n",
    "    model.eval()\n",
    "    \n",
    "    val_loss = 0\n",
    "    correct = 0\n",
    "    \n",
    "    with torch.no_grad():\n",
    "        for x, y in dataloader:\n",
    "            x, y = x.to(device), y.to(device)\n",
    "            \n",
    "            prediction = model(x)\n",
    "            val_loss += criterion(prediction, y).item()\n",
    "            \n",
    "            y_hat = prediction.max(1, keepdim=True)[1]\n",
    "            correct += y_hat.eq(y.view_as(y_hat)).sum().item()\n",
    "    \n",
    "    val_loss /= len(dataloader.dataset)\n",
    "    \n",
    "    print('\\nTest set: Average loss: {:.4f}, Accuracy: {}/{} ({:.0f}%)\\n'.format(\n",
    "        val_loss, correct, len(dataloader.dataset),\n",
    "        100. * correct / len(dataloader.dataset)))"
   ]
  },
  {
   "cell_type": "code",
   "execution_count": 15,
   "metadata": {},
   "outputs": [],
   "source": [
    "num_ftrs = model.fc.in_features\n",
    "model.fc = nn.Linear(num_ftrs, len(class_names))\n",
    "\n",
    "model.to(device);"
   ]
  },
  {
   "cell_type": "code",
   "execution_count": 16,
   "metadata": {},
   "outputs": [
    {
     "name": "stdout",
     "output_type": "stream",
     "text": [
      "Train Epoch: 1 [0/793 (0%)]\tLoss: 2.302897\n",
      "Train Epoch: 1 [640/793 (80%)]\tLoss: 2.058257\n",
      "\n",
      "Test set: Average loss: 0.7312, Accuracy: 39/207 (19%)\n",
      "\n",
      "Train Epoch: 2 [0/793 (0%)]\tLoss: 1.785908\n",
      "Train Epoch: 2 [640/793 (80%)]\tLoss: 1.154475\n",
      "\n",
      "Test set: Average loss: 0.0492, Accuracy: 105/207 (51%)\n",
      "\n",
      "Train Epoch: 3 [0/793 (0%)]\tLoss: 1.189389\n",
      "Train Epoch: 3 [640/793 (80%)]\tLoss: 1.110614\n",
      "\n",
      "Test set: Average loss: 0.0585, Accuracy: 88/207 (43%)\n",
      "\n",
      "Train Epoch: 4 [0/793 (0%)]\tLoss: 1.170841\n",
      "Train Epoch: 4 [640/793 (80%)]\tLoss: 1.136728\n",
      "\n",
      "Test set: Average loss: 0.0615, Accuracy: 102/207 (49%)\n",
      "\n",
      "Train Epoch: 5 [0/793 (0%)]\tLoss: 1.476130\n",
      "Train Epoch: 5 [640/793 (80%)]\tLoss: 0.897997\n",
      "\n",
      "Test set: Average loss: 0.0333, Accuracy: 137/207 (66%)\n",
      "\n",
      "Train Epoch: 6 [0/793 (0%)]\tLoss: 1.244905\n",
      "Train Epoch: 6 [640/793 (80%)]\tLoss: 1.020125\n",
      "\n",
      "Test set: Average loss: 0.0324, Accuracy: 135/207 (65%)\n",
      "\n",
      "Train Epoch: 7 [0/793 (0%)]\tLoss: 0.806854\n",
      "Train Epoch: 7 [640/793 (80%)]\tLoss: 1.468422\n",
      "\n",
      "Test set: Average loss: 0.0290, Accuracy: 150/207 (72%)\n",
      "\n",
      "Train Epoch: 8 [0/793 (0%)]\tLoss: 0.744172\n",
      "Train Epoch: 8 [640/793 (80%)]\tLoss: 1.179944\n",
      "\n",
      "Test set: Average loss: 0.0318, Accuracy: 143/207 (69%)\n",
      "\n",
      "Train Epoch: 9 [0/793 (0%)]\tLoss: 0.949014\n",
      "Train Epoch: 9 [640/793 (80%)]\tLoss: 0.873265\n",
      "\n",
      "Test set: Average loss: 0.0230, Accuracy: 155/207 (75%)\n",
      "\n",
      "Train Epoch: 10 [0/793 (0%)]\tLoss: 0.619414\n",
      "Train Epoch: 10 [640/793 (80%)]\tLoss: 0.807086\n",
      "\n",
      "Test set: Average loss: 0.0233, Accuracy: 156/207 (75%)\n",
      "\n",
      "Train Epoch: 11 [0/793 (0%)]\tLoss: 0.727046\n",
      "Train Epoch: 11 [640/793 (80%)]\tLoss: 1.097088\n",
      "\n",
      "Test set: Average loss: 0.0214, Accuracy: 168/207 (81%)\n",
      "\n",
      "Train Epoch: 12 [0/793 (0%)]\tLoss: 0.731557\n",
      "Train Epoch: 12 [640/793 (80%)]\tLoss: 1.133195\n",
      "\n",
      "Test set: Average loss: 0.0193, Accuracy: 165/207 (80%)\n",
      "\n",
      "Train Epoch: 13 [0/793 (0%)]\tLoss: 0.610952\n",
      "Train Epoch: 13 [640/793 (80%)]\tLoss: 0.708423\n",
      "\n",
      "Test set: Average loss: 0.0247, Accuracy: 164/207 (79%)\n",
      "\n",
      "Train Epoch: 14 [0/793 (0%)]\tLoss: 0.647011\n",
      "Train Epoch: 14 [640/793 (80%)]\tLoss: 0.612411\n",
      "\n",
      "Test set: Average loss: 0.0176, Accuracy: 175/207 (85%)\n",
      "\n",
      "Train Epoch: 15 [0/793 (0%)]\tLoss: 0.392575\n",
      "Train Epoch: 15 [640/793 (80%)]\tLoss: 0.612003\n",
      "\n",
      "Test set: Average loss: 0.0158, Accuracy: 173/207 (84%)\n",
      "\n",
      "Train Epoch: 16 [0/793 (0%)]\tLoss: 0.711652\n",
      "Train Epoch: 16 [640/793 (80%)]\tLoss: 0.708301\n",
      "\n",
      "Test set: Average loss: 0.0139, Accuracy: 176/207 (85%)\n",
      "\n",
      "Train Epoch: 17 [0/793 (0%)]\tLoss: 0.268016\n",
      "Train Epoch: 17 [640/793 (80%)]\tLoss: 0.594004\n",
      "\n",
      "Test set: Average loss: 0.0128, Accuracy: 177/207 (86%)\n",
      "\n",
      "Train Epoch: 18 [0/793 (0%)]\tLoss: 0.454026\n",
      "Train Epoch: 18 [640/793 (80%)]\tLoss: 0.458530\n",
      "\n",
      "Test set: Average loss: 0.0132, Accuracy: 178/207 (86%)\n",
      "\n",
      "Train Epoch: 19 [0/793 (0%)]\tLoss: 0.643037\n",
      "Train Epoch: 19 [640/793 (80%)]\tLoss: 0.557483\n",
      "\n",
      "Test set: Average loss: 0.0121, Accuracy: 185/207 (89%)\n",
      "\n",
      "Train Epoch: 20 [0/793 (0%)]\tLoss: 0.525116\n",
      "Train Epoch: 20 [640/793 (80%)]\tLoss: 0.722718\n",
      "\n",
      "Test set: Average loss: 0.0126, Accuracy: 179/207 (86%)\n",
      "\n",
      "Train Epoch: 21 [0/793 (0%)]\tLoss: 0.461948\n",
      "Train Epoch: 21 [640/793 (80%)]\tLoss: 0.365654\n",
      "\n",
      "Test set: Average loss: 0.0111, Accuracy: 186/207 (90%)\n",
      "\n",
      "Train Epoch: 22 [0/793 (0%)]\tLoss: 0.322195\n",
      "Train Epoch: 22 [640/793 (80%)]\tLoss: 0.456111\n",
      "\n",
      "Test set: Average loss: 0.0107, Accuracy: 191/207 (92%)\n",
      "\n",
      "Train Epoch: 23 [0/793 (0%)]\tLoss: 0.319386\n",
      "Train Epoch: 23 [640/793 (80%)]\tLoss: 0.901449\n",
      "\n",
      "Test set: Average loss: 0.0105, Accuracy: 190/207 (92%)\n",
      "\n",
      "Train Epoch: 24 [0/793 (0%)]\tLoss: 0.467779\n",
      "Train Epoch: 24 [640/793 (80%)]\tLoss: 0.685196\n",
      "\n",
      "Test set: Average loss: 0.0111, Accuracy: 190/207 (92%)\n",
      "\n",
      "Train Epoch: 25 [0/793 (0%)]\tLoss: 0.452049\n",
      "Train Epoch: 25 [640/793 (80%)]\tLoss: 0.426070\n",
      "\n",
      "Test set: Average loss: 0.0097, Accuracy: 191/207 (92%)\n",
      "\n",
      "Train Epoch: 26 [0/793 (0%)]\tLoss: 0.775116\n",
      "Train Epoch: 26 [640/793 (80%)]\tLoss: 0.411646\n",
      "\n",
      "Test set: Average loss: 0.0098, Accuracy: 193/207 (93%)\n",
      "\n",
      "Train Epoch: 27 [0/793 (0%)]\tLoss: 0.663020\n",
      "Train Epoch: 27 [640/793 (80%)]\tLoss: 0.350380\n",
      "\n",
      "Test set: Average loss: 0.0090, Accuracy: 188/207 (91%)\n",
      "\n",
      "Train Epoch: 28 [0/793 (0%)]\tLoss: 0.467683\n",
      "Train Epoch: 28 [640/793 (80%)]\tLoss: 0.505887\n",
      "\n",
      "Test set: Average loss: 0.0096, Accuracy: 190/207 (92%)\n",
      "\n",
      "Train Epoch: 29 [0/793 (0%)]\tLoss: 0.570017\n",
      "Train Epoch: 29 [640/793 (80%)]\tLoss: 0.370560\n",
      "\n",
      "Test set: Average loss: 0.0083, Accuracy: 190/207 (92%)\n",
      "\n",
      "Train Epoch: 30 [0/793 (0%)]\tLoss: 0.260125\n",
      "Train Epoch: 30 [640/793 (80%)]\tLoss: 0.535990\n",
      "\n",
      "Test set: Average loss: 0.0081, Accuracy: 193/207 (93%)\n",
      "\n"
     ]
    }
   ],
   "source": [
    "for epoch in range(1, 30+1):\n",
    "    train(model, dataloaders['train'], optimizer, criterion, epoch)\n",
    "    val(model, dataloaders['test'], criterion)\n",
    "    for param_group in optimizer.param_groups:\n",
    "        param_group['lr'] *= 0.9"
   ]
  },
  {
   "cell_type": "code",
   "execution_count": 17,
   "metadata": {},
   "outputs": [
    {
     "data": {
      "text/plain": [
       "ResNet(\n",
       "  (conv1): Conv2d(3, 64, kernel_size=(7, 7), stride=(2, 2), padding=(3, 3), bias=False)\n",
       "  (bn1): BatchNorm2d(64, eps=1e-05, momentum=0.1, affine=True, track_running_stats=True)\n",
       "  (relu): ReLU(inplace)\n",
       "  (maxpool): MaxPool2d(kernel_size=3, stride=2, padding=1, dilation=1, ceil_mode=False)\n",
       "  (layer1): Sequential(\n",
       "    (0): BasicBlock(\n",
       "      (conv1): Conv2d(64, 64, kernel_size=(3, 3), stride=(1, 1), padding=(1, 1), bias=False)\n",
       "      (bn1): BatchNorm2d(64, eps=1e-05, momentum=0.1, affine=True, track_running_stats=True)\n",
       "      (relu): ReLU(inplace)\n",
       "      (conv2): Conv2d(64, 64, kernel_size=(3, 3), stride=(1, 1), padding=(1, 1), bias=False)\n",
       "      (bn2): BatchNorm2d(64, eps=1e-05, momentum=0.1, affine=True, track_running_stats=True)\n",
       "    )\n",
       "    (1): BasicBlock(\n",
       "      (conv1): Conv2d(64, 64, kernel_size=(3, 3), stride=(1, 1), padding=(1, 1), bias=False)\n",
       "      (bn1): BatchNorm2d(64, eps=1e-05, momentum=0.1, affine=True, track_running_stats=True)\n",
       "      (relu): ReLU(inplace)\n",
       "      (conv2): Conv2d(64, 64, kernel_size=(3, 3), stride=(1, 1), padding=(1, 1), bias=False)\n",
       "      (bn2): BatchNorm2d(64, eps=1e-05, momentum=0.1, affine=True, track_running_stats=True)\n",
       "    )\n",
       "  )\n",
       "  (layer2): Sequential(\n",
       "    (0): BasicBlock(\n",
       "      (conv1): Conv2d(64, 128, kernel_size=(3, 3), stride=(2, 2), padding=(1, 1), bias=False)\n",
       "      (bn1): BatchNorm2d(128, eps=1e-05, momentum=0.1, affine=True, track_running_stats=True)\n",
       "      (relu): ReLU(inplace)\n",
       "      (conv2): Conv2d(128, 128, kernel_size=(3, 3), stride=(1, 1), padding=(1, 1), bias=False)\n",
       "      (bn2): BatchNorm2d(128, eps=1e-05, momentum=0.1, affine=True, track_running_stats=True)\n",
       "      (downsample): Sequential(\n",
       "        (0): Conv2d(64, 128, kernel_size=(1, 1), stride=(2, 2), bias=False)\n",
       "        (1): BatchNorm2d(128, eps=1e-05, momentum=0.1, affine=True, track_running_stats=True)\n",
       "      )\n",
       "    )\n",
       "    (1): BasicBlock(\n",
       "      (conv1): Conv2d(128, 128, kernel_size=(3, 3), stride=(1, 1), padding=(1, 1), bias=False)\n",
       "      (bn1): BatchNorm2d(128, eps=1e-05, momentum=0.1, affine=True, track_running_stats=True)\n",
       "      (relu): ReLU(inplace)\n",
       "      (conv2): Conv2d(128, 128, kernel_size=(3, 3), stride=(1, 1), padding=(1, 1), bias=False)\n",
       "      (bn2): BatchNorm2d(128, eps=1e-05, momentum=0.1, affine=True, track_running_stats=True)\n",
       "    )\n",
       "  )\n",
       "  (layer3): Sequential(\n",
       "    (0): BasicBlock(\n",
       "      (conv1): Conv2d(128, 256, kernel_size=(3, 3), stride=(2, 2), padding=(1, 1), bias=False)\n",
       "      (bn1): BatchNorm2d(256, eps=1e-05, momentum=0.1, affine=True, track_running_stats=True)\n",
       "      (relu): ReLU(inplace)\n",
       "      (conv2): Conv2d(256, 256, kernel_size=(3, 3), stride=(1, 1), padding=(1, 1), bias=False)\n",
       "      (bn2): BatchNorm2d(256, eps=1e-05, momentum=0.1, affine=True, track_running_stats=True)\n",
       "      (downsample): Sequential(\n",
       "        (0): Conv2d(128, 256, kernel_size=(1, 1), stride=(2, 2), bias=False)\n",
       "        (1): BatchNorm2d(256, eps=1e-05, momentum=0.1, affine=True, track_running_stats=True)\n",
       "      )\n",
       "    )\n",
       "    (1): BasicBlock(\n",
       "      (conv1): Conv2d(256, 256, kernel_size=(3, 3), stride=(1, 1), padding=(1, 1), bias=False)\n",
       "      (bn1): BatchNorm2d(256, eps=1e-05, momentum=0.1, affine=True, track_running_stats=True)\n",
       "      (relu): ReLU(inplace)\n",
       "      (conv2): Conv2d(256, 256, kernel_size=(3, 3), stride=(1, 1), padding=(1, 1), bias=False)\n",
       "      (bn2): BatchNorm2d(256, eps=1e-05, momentum=0.1, affine=True, track_running_stats=True)\n",
       "    )\n",
       "  )\n",
       "  (layer4): Sequential(\n",
       "    (0): BasicBlock(\n",
       "      (conv1): Conv2d(256, 512, kernel_size=(3, 3), stride=(2, 2), padding=(1, 1), bias=False)\n",
       "      (bn1): BatchNorm2d(512, eps=1e-05, momentum=0.1, affine=True, track_running_stats=True)\n",
       "      (relu): ReLU(inplace)\n",
       "      (conv2): Conv2d(512, 512, kernel_size=(3, 3), stride=(1, 1), padding=(1, 1), bias=False)\n",
       "      (bn2): BatchNorm2d(512, eps=1e-05, momentum=0.1, affine=True, track_running_stats=True)\n",
       "      (downsample): Sequential(\n",
       "        (0): Conv2d(256, 512, kernel_size=(1, 1), stride=(2, 2), bias=False)\n",
       "        (1): BatchNorm2d(512, eps=1e-05, momentum=0.1, affine=True, track_running_stats=True)\n",
       "      )\n",
       "    )\n",
       "    (1): BasicBlock(\n",
       "      (conv1): Conv2d(512, 512, kernel_size=(3, 3), stride=(1, 1), padding=(1, 1), bias=False)\n",
       "      (bn1): BatchNorm2d(512, eps=1e-05, momentum=0.1, affine=True, track_running_stats=True)\n",
       "      (relu): ReLU(inplace)\n",
       "      (conv2): Conv2d(512, 512, kernel_size=(3, 3), stride=(1, 1), padding=(1, 1), bias=False)\n",
       "      (bn2): BatchNorm2d(512, eps=1e-05, momentum=0.1, affine=True, track_running_stats=True)\n",
       "    )\n",
       "  )\n",
       "  (avgpool): AvgPool2d(kernel_size=7, stride=1, padding=0)\n",
       "  (fc): Linear(in_features=512, out_features=10, bias=True)\n",
       ")"
      ]
     },
     "execution_count": 17,
     "metadata": {},
     "output_type": "execute_result"
    }
   ],
   "source": [
    "model"
   ]
  },
  {
   "cell_type": "code",
   "execution_count": 20,
   "metadata": {},
   "outputs": [],
   "source": [
    "torch.save(model, './models/resnet18')"
   ]
  },
  {
   "cell_type": "code",
   "execution_count": 30,
   "metadata": {},
   "outputs": [],
   "source": [
    "model = torch.load('./models/resnet18')"
   ]
  },
  {
   "cell_type": "code",
   "execution_count": 31,
   "metadata": {},
   "outputs": [],
   "source": [
    "class Identity(nn.Module):\n",
    "    def __init__(self):\n",
    "        super(Identity, self).__init__()\n",
    "        \n",
    "    def forward(self, x):\n",
    "        return x"
   ]
  },
  {
   "cell_type": "code",
   "execution_count": 32,
   "metadata": {},
   "outputs": [],
   "source": [
    "model = models.resnet18(pretrained=False)\n",
    "model.fc = Identity()"
   ]
  },
  {
   "cell_type": "code",
   "execution_count": 33,
   "metadata": {},
   "outputs": [
    {
     "name": "stderr",
     "output_type": "stream",
     "text": [
      "/home/paperspace/anaconda3/envs/fastai/lib/python3.6/site-packages/torch/serialization.py:193: UserWarning: Couldn't retrieve source code for container of type Identity. It won't be checked for correctness upon loading.\n",
      "  \"type \" + obj.__name__ + \". It won't be checked \"\n"
     ]
    }
   ],
   "source": [
    "torch.save(model, './models/resnet18-encoder')"
   ]
  },
  {
   "cell_type": "code",
   "execution_count": 34,
   "metadata": {},
   "outputs": [
    {
     "name": "stdout",
     "output_type": "stream",
     "text": [
      "featv1_ANSI.csv  test  train\r\n"
     ]
    }
   ],
   "source": [
    "!ls data"
   ]
  },
  {
   "cell_type": "code",
   "execution_count": 35,
   "metadata": {},
   "outputs": [
    {
     "data": {
      "text/plain": [
       "{'train': Dataset ImageFolder\n",
       "     Number of datapoints: 793\n",
       "     Root Location: data/train\n",
       "     Transforms (if any): Compose(\n",
       "                              RandomResizedCrop(size=(224, 224), scale=(0.08, 1.0), ratio=(0.75, 1.3333), interpolation=PIL.Image.BILINEAR)\n",
       "                              RandomHorizontalFlip(p=0.5)\n",
       "                              RandomRotation(degrees=(-30, 30), resample=False, expand=False)\n",
       "                              ToTensor()\n",
       "                              Normalize(mean=[0.485, 0.456, 0.406], std=[0.229, 0.224, 0.225])\n",
       "                          )\n",
       "     Target Transforms (if any): None, 'test': Dataset ImageFolder\n",
       "     Number of datapoints: 207\n",
       "     Root Location: data/test\n",
       "     Transforms (if any): Compose(\n",
       "                              Resize(size=224, interpolation=PIL.Image.BILINEAR)\n",
       "                              CenterCrop(size=(224, 224))\n",
       "                              ToTensor()\n",
       "                              Normalize(mean=[0.485, 0.456, 0.406], std=[0.229, 0.224, 0.225])\n",
       "                          )\n",
       "     Target Transforms (if any): None}"
      ]
     },
     "execution_count": 35,
     "metadata": {},
     "output_type": "execute_result"
    }
   ],
   "source": [
    "image_datasets"
   ]
  },
  {
   "cell_type": "code",
   "execution_count": 52,
   "metadata": {},
   "outputs": [],
   "source": [
    "from PIL import Image\n",
    "import math"
   ]
  },
  {
   "cell_type": "code",
   "execution_count": 53,
   "metadata": {},
   "outputs": [],
   "source": [
    "images = !ls data/images"
   ]
  },
  {
   "cell_type": "code",
   "execution_count": 54,
   "metadata": {},
   "outputs": [],
   "source": [
    "def name_to_num(name):\n",
    "    return int(name[:-4])"
   ]
  },
  {
   "cell_type": "code",
   "execution_count": 103,
   "metadata": {},
   "outputs": [],
   "source": [
    "all_images = []\n",
    "for image in images:\n",
    "    image_data = Image.open('data/images/{}'.format(image))\n",
    "    image_tensor = data_transforms['test'](image_data)\n",
    "    image_tensor.unsqueeze_(0)\n",
    "    \n",
    "    features = model(image_tensor)\n",
    "    \n",
    "    label = int(math.floor(name_to_num(image)/100))\n",
    "    temp_dict = {i:v for i, v in enumerate(features.data.numpy().ravel())}\n",
    "    temp_dict['Class'] = label\n",
    "    \n",
    "    all_images.append(temp_dict)"
   ]
  },
  {
   "cell_type": "code",
   "execution_count": 104,
   "metadata": {},
   "outputs": [],
   "source": [
    "import pandas as pd"
   ]
  },
  {
   "cell_type": "code",
   "execution_count": 105,
   "metadata": {},
   "outputs": [],
   "source": [
    "all_images_df = pd.DataFrame(data=all_images)"
   ]
  },
  {
   "cell_type": "code",
   "execution_count": 106,
   "metadata": {},
   "outputs": [
    {
     "data": {
      "text/html": [
       "<div>\n",
       "<style scoped>\n",
       "    .dataframe tbody tr th:only-of-type {\n",
       "        vertical-align: middle;\n",
       "    }\n",
       "\n",
       "    .dataframe tbody tr th {\n",
       "        vertical-align: top;\n",
       "    }\n",
       "\n",
       "    .dataframe thead th {\n",
       "        text-align: right;\n",
       "    }\n",
       "</style>\n",
       "<table border=\"1\" class=\"dataframe\">\n",
       "  <thead>\n",
       "    <tr style=\"text-align: right;\">\n",
       "      <th></th>\n",
       "      <th>0</th>\n",
       "      <th>1</th>\n",
       "      <th>2</th>\n",
       "      <th>3</th>\n",
       "      <th>4</th>\n",
       "      <th>5</th>\n",
       "      <th>6</th>\n",
       "      <th>7</th>\n",
       "      <th>8</th>\n",
       "      <th>9</th>\n",
       "      <th>...</th>\n",
       "      <th>503</th>\n",
       "      <th>504</th>\n",
       "      <th>505</th>\n",
       "      <th>506</th>\n",
       "      <th>507</th>\n",
       "      <th>508</th>\n",
       "      <th>509</th>\n",
       "      <th>510</th>\n",
       "      <th>511</th>\n",
       "      <th>Class</th>\n",
       "    </tr>\n",
       "  </thead>\n",
       "  <tbody>\n",
       "    <tr>\n",
       "      <th>0</th>\n",
       "      <td>0.862178</td>\n",
       "      <td>0.839308</td>\n",
       "      <td>0.784739</td>\n",
       "      <td>0.874484</td>\n",
       "      <td>0.801640</td>\n",
       "      <td>0.824449</td>\n",
       "      <td>0.823280</td>\n",
       "      <td>0.761248</td>\n",
       "      <td>0.835101</td>\n",
       "      <td>0.759689</td>\n",
       "      <td>...</td>\n",
       "      <td>0.703386</td>\n",
       "      <td>0.770972</td>\n",
       "      <td>0.864313</td>\n",
       "      <td>0.757855</td>\n",
       "      <td>0.822150</td>\n",
       "      <td>0.826606</td>\n",
       "      <td>0.803982</td>\n",
       "      <td>0.754933</td>\n",
       "      <td>0.887595</td>\n",
       "      <td>0</td>\n",
       "    </tr>\n",
       "    <tr>\n",
       "      <th>1</th>\n",
       "      <td>0.888839</td>\n",
       "      <td>0.825846</td>\n",
       "      <td>0.789228</td>\n",
       "      <td>0.872175</td>\n",
       "      <td>0.764380</td>\n",
       "      <td>0.907626</td>\n",
       "      <td>0.844091</td>\n",
       "      <td>0.827957</td>\n",
       "      <td>0.855548</td>\n",
       "      <td>0.712574</td>\n",
       "      <td>...</td>\n",
       "      <td>0.706060</td>\n",
       "      <td>0.793318</td>\n",
       "      <td>0.845691</td>\n",
       "      <td>0.907800</td>\n",
       "      <td>0.779318</td>\n",
       "      <td>0.901443</td>\n",
       "      <td>0.842881</td>\n",
       "      <td>0.920459</td>\n",
       "      <td>0.867823</td>\n",
       "      <td>1</td>\n",
       "    </tr>\n",
       "    <tr>\n",
       "      <th>2</th>\n",
       "      <td>0.863721</td>\n",
       "      <td>0.761275</td>\n",
       "      <td>0.742764</td>\n",
       "      <td>0.711046</td>\n",
       "      <td>0.848023</td>\n",
       "      <td>0.894249</td>\n",
       "      <td>0.962257</td>\n",
       "      <td>0.758384</td>\n",
       "      <td>0.819211</td>\n",
       "      <td>0.757989</td>\n",
       "      <td>...</td>\n",
       "      <td>0.782618</td>\n",
       "      <td>0.730807</td>\n",
       "      <td>0.777283</td>\n",
       "      <td>0.838118</td>\n",
       "      <td>0.934164</td>\n",
       "      <td>0.765030</td>\n",
       "      <td>0.840798</td>\n",
       "      <td>0.787319</td>\n",
       "      <td>0.751451</td>\n",
       "      <td>1</td>\n",
       "    </tr>\n",
       "    <tr>\n",
       "      <th>3</th>\n",
       "      <td>0.915312</td>\n",
       "      <td>0.865700</td>\n",
       "      <td>0.803962</td>\n",
       "      <td>0.780047</td>\n",
       "      <td>0.814519</td>\n",
       "      <td>0.810747</td>\n",
       "      <td>0.870463</td>\n",
       "      <td>0.927868</td>\n",
       "      <td>0.827903</td>\n",
       "      <td>0.790925</td>\n",
       "      <td>...</td>\n",
       "      <td>0.696763</td>\n",
       "      <td>0.759936</td>\n",
       "      <td>0.811648</td>\n",
       "      <td>0.798482</td>\n",
       "      <td>0.729883</td>\n",
       "      <td>0.774720</td>\n",
       "      <td>0.811142</td>\n",
       "      <td>0.691062</td>\n",
       "      <td>0.738499</td>\n",
       "      <td>1</td>\n",
       "    </tr>\n",
       "    <tr>\n",
       "      <th>4</th>\n",
       "      <td>0.848264</td>\n",
       "      <td>0.728891</td>\n",
       "      <td>0.748240</td>\n",
       "      <td>0.850766</td>\n",
       "      <td>0.746471</td>\n",
       "      <td>0.801984</td>\n",
       "      <td>0.765300</td>\n",
       "      <td>0.806117</td>\n",
       "      <td>0.766603</td>\n",
       "      <td>0.881900</td>\n",
       "      <td>...</td>\n",
       "      <td>0.781184</td>\n",
       "      <td>0.842300</td>\n",
       "      <td>0.769603</td>\n",
       "      <td>0.865306</td>\n",
       "      <td>0.823036</td>\n",
       "      <td>0.942358</td>\n",
       "      <td>0.743737</td>\n",
       "      <td>0.729783</td>\n",
       "      <td>0.820932</td>\n",
       "      <td>1</td>\n",
       "    </tr>\n",
       "  </tbody>\n",
       "</table>\n",
       "<p>5 rows × 513 columns</p>\n",
       "</div>"
      ],
      "text/plain": [
       "          0         1         2         3         4         5         6  \\\n",
       "0  0.862178  0.839308  0.784739  0.874484  0.801640  0.824449  0.823280   \n",
       "1  0.888839  0.825846  0.789228  0.872175  0.764380  0.907626  0.844091   \n",
       "2  0.863721  0.761275  0.742764  0.711046  0.848023  0.894249  0.962257   \n",
       "3  0.915312  0.865700  0.803962  0.780047  0.814519  0.810747  0.870463   \n",
       "4  0.848264  0.728891  0.748240  0.850766  0.746471  0.801984  0.765300   \n",
       "\n",
       "          7         8         9  ...         503       504       505  \\\n",
       "0  0.761248  0.835101  0.759689  ...    0.703386  0.770972  0.864313   \n",
       "1  0.827957  0.855548  0.712574  ...    0.706060  0.793318  0.845691   \n",
       "2  0.758384  0.819211  0.757989  ...    0.782618  0.730807  0.777283   \n",
       "3  0.927868  0.827903  0.790925  ...    0.696763  0.759936  0.811648   \n",
       "4  0.806117  0.766603  0.881900  ...    0.781184  0.842300  0.769603   \n",
       "\n",
       "        506       507       508       509       510       511  Class  \n",
       "0  0.757855  0.822150  0.826606  0.803982  0.754933  0.887595      0  \n",
       "1  0.907800  0.779318  0.901443  0.842881  0.920459  0.867823      1  \n",
       "2  0.838118  0.934164  0.765030  0.840798  0.787319  0.751451      1  \n",
       "3  0.798482  0.729883  0.774720  0.811142  0.691062  0.738499      1  \n",
       "4  0.865306  0.823036  0.942358  0.743737  0.729783  0.820932      1  \n",
       "\n",
       "[5 rows x 513 columns]"
      ]
     },
     "execution_count": 106,
     "metadata": {},
     "output_type": "execute_result"
    }
   ],
   "source": [
    "all_images_df.head()"
   ]
  },
  {
   "cell_type": "code",
   "execution_count": 107,
   "metadata": {},
   "outputs": [],
   "source": [
    "all_images_df.to_csv('featv2_ANSI.csv', index=False)"
   ]
  },
  {
   "cell_type": "code",
   "execution_count": null,
   "metadata": {},
   "outputs": [],
   "source": []
  },
  {
   "cell_type": "code",
   "execution_count": null,
   "metadata": {},
   "outputs": [],
   "source": []
  },
  {
   "cell_type": "code",
   "execution_count": null,
   "metadata": {},
   "outputs": [],
   "source": []
  }
 ],
 "metadata": {
  "kernelspec": {
   "display_name": "Python 3",
   "language": "python",
   "name": "python3"
  },
  "language_info": {
   "codemirror_mode": {
    "name": "ipython",
    "version": 3
   },
   "file_extension": ".py",
   "mimetype": "text/x-python",
   "name": "python",
   "nbconvert_exporter": "python",
   "pygments_lexer": "ipython3",
   "version": "3.6.6"
  }
 },
 "nbformat": 4,
 "nbformat_minor": 2
}
