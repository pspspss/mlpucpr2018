{
 "cells": [
  {
   "cell_type": "code",
   "execution_count": 1,
   "metadata": {},
   "outputs": [],
   "source": [
    "import numpy as np\n",
    "import pandas as pd"
   ]
  },
  {
   "cell_type": "code",
   "execution_count": 2,
   "metadata": {},
   "outputs": [],
   "source": [
    "data = pd.read_csv('data/featv1_ANSI.csv')"
   ]
  },
  {
   "cell_type": "code",
   "execution_count": 3,
   "metadata": {},
   "outputs": [
    {
     "data": {
      "text/html": [
       "<div>\n",
       "<style scoped>\n",
       "    .dataframe tbody tr th:only-of-type {\n",
       "        vertical-align: middle;\n",
       "    }\n",
       "\n",
       "    .dataframe tbody tr th {\n",
       "        vertical-align: top;\n",
       "    }\n",
       "\n",
       "    .dataframe thead th {\n",
       "        text-align: right;\n",
       "    }\n",
       "</style>\n",
       "<table border=\"1\" class=\"dataframe\">\n",
       "  <thead>\n",
       "    <tr style=\"text-align: right;\">\n",
       "      <th></th>\n",
       "      <th>1</th>\n",
       "      <th>2</th>\n",
       "      <th>3</th>\n",
       "      <th>4</th>\n",
       "      <th>5</th>\n",
       "      <th>6</th>\n",
       "      <th>7</th>\n",
       "      <th>8</th>\n",
       "      <th>9</th>\n",
       "      <th>10</th>\n",
       "      <th>...</th>\n",
       "      <th>819</th>\n",
       "      <th>820</th>\n",
       "      <th>821</th>\n",
       "      <th>822</th>\n",
       "      <th>823</th>\n",
       "      <th>824</th>\n",
       "      <th>825</th>\n",
       "      <th>826</th>\n",
       "      <th>827</th>\n",
       "      <th>class</th>\n",
       "    </tr>\n",
       "  </thead>\n",
       "  <tbody>\n",
       "    <tr>\n",
       "      <th>0</th>\n",
       "      <td>0.000275</td>\n",
       "      <td>0.000203</td>\n",
       "      <td>0.000203</td>\n",
       "      <td>0.000275</td>\n",
       "      <td>0.000336</td>\n",
       "      <td>0.000509</td>\n",
       "      <td>0.000610</td>\n",
       "      <td>0.000895</td>\n",
       "      <td>0.001149</td>\n",
       "      <td>0.000875</td>\n",
       "      <td>...</td>\n",
       "      <td>0.007813</td>\n",
       "      <td>0.007125</td>\n",
       "      <td>0.007003</td>\n",
       "      <td>0.005815</td>\n",
       "      <td>0.005371</td>\n",
       "      <td>0.004939</td>\n",
       "      <td>0.004250</td>\n",
       "      <td>0.003440</td>\n",
       "      <td>0.066753</td>\n",
       "      <td>c1</td>\n",
       "    </tr>\n",
       "    <tr>\n",
       "      <th>1</th>\n",
       "      <td>0.000000</td>\n",
       "      <td>0.000000</td>\n",
       "      <td>0.000000</td>\n",
       "      <td>0.000000</td>\n",
       "      <td>0.000010</td>\n",
       "      <td>0.000000</td>\n",
       "      <td>0.000417</td>\n",
       "      <td>0.003062</td>\n",
       "      <td>0.005137</td>\n",
       "      <td>0.005035</td>\n",
       "      <td>...</td>\n",
       "      <td>0.004200</td>\n",
       "      <td>0.003512</td>\n",
       "      <td>0.003417</td>\n",
       "      <td>0.002676</td>\n",
       "      <td>0.002348</td>\n",
       "      <td>0.002380</td>\n",
       "      <td>0.001841</td>\n",
       "      <td>0.001111</td>\n",
       "      <td>0.076947</td>\n",
       "      <td>c1</td>\n",
       "    </tr>\n",
       "    <tr>\n",
       "      <th>2</th>\n",
       "      <td>0.000326</td>\n",
       "      <td>0.000224</td>\n",
       "      <td>0.000224</td>\n",
       "      <td>0.000305</td>\n",
       "      <td>0.000539</td>\n",
       "      <td>0.000458</td>\n",
       "      <td>0.000529</td>\n",
       "      <td>0.000427</td>\n",
       "      <td>0.000661</td>\n",
       "      <td>0.000682</td>\n",
       "      <td>...</td>\n",
       "      <td>0.006389</td>\n",
       "      <td>0.005934</td>\n",
       "      <td>0.005728</td>\n",
       "      <td>0.005088</td>\n",
       "      <td>0.004578</td>\n",
       "      <td>0.004144</td>\n",
       "      <td>0.003558</td>\n",
       "      <td>0.002408</td>\n",
       "      <td>0.062309</td>\n",
       "      <td>c1</td>\n",
       "    </tr>\n",
       "    <tr>\n",
       "      <th>3</th>\n",
       "      <td>0.002584</td>\n",
       "      <td>0.001577</td>\n",
       "      <td>0.001933</td>\n",
       "      <td>0.003082</td>\n",
       "      <td>0.003723</td>\n",
       "      <td>0.002950</td>\n",
       "      <td>0.002991</td>\n",
       "      <td>0.002848</td>\n",
       "      <td>0.003103</td>\n",
       "      <td>0.002675</td>\n",
       "      <td>...</td>\n",
       "      <td>0.009948</td>\n",
       "      <td>0.009983</td>\n",
       "      <td>0.009573</td>\n",
       "      <td>0.009854</td>\n",
       "      <td>0.010007</td>\n",
       "      <td>0.010347</td>\n",
       "      <td>0.010253</td>\n",
       "      <td>0.008810</td>\n",
       "      <td>0.128738</td>\n",
       "      <td>c2</td>\n",
       "    </tr>\n",
       "    <tr>\n",
       "      <th>4</th>\n",
       "      <td>0.000743</td>\n",
       "      <td>0.001475</td>\n",
       "      <td>0.006795</td>\n",
       "      <td>0.014089</td>\n",
       "      <td>0.013397</td>\n",
       "      <td>0.005900</td>\n",
       "      <td>0.002391</td>\n",
       "      <td>0.002096</td>\n",
       "      <td>0.001912</td>\n",
       "      <td>0.002126</td>\n",
       "      <td>...</td>\n",
       "      <td>0.007976</td>\n",
       "      <td>0.007139</td>\n",
       "      <td>0.006607</td>\n",
       "      <td>0.006098</td>\n",
       "      <td>0.006132</td>\n",
       "      <td>0.005408</td>\n",
       "      <td>0.005182</td>\n",
       "      <td>0.004197</td>\n",
       "      <td>0.155593</td>\n",
       "      <td>c2</td>\n",
       "    </tr>\n",
       "  </tbody>\n",
       "</table>\n",
       "<p>5 rows × 828 columns</p>\n",
       "</div>"
      ],
      "text/plain": [
       "          1         2         3         4         5         6         7  \\\n",
       "0  0.000275  0.000203  0.000203  0.000275  0.000336  0.000509  0.000610   \n",
       "1  0.000000  0.000000  0.000000  0.000000  0.000010  0.000000  0.000417   \n",
       "2  0.000326  0.000224  0.000224  0.000305  0.000539  0.000458  0.000529   \n",
       "3  0.002584  0.001577  0.001933  0.003082  0.003723  0.002950  0.002991   \n",
       "4  0.000743  0.001475  0.006795  0.014089  0.013397  0.005900  0.002391   \n",
       "\n",
       "          8         9        10  ...         819       820       821  \\\n",
       "0  0.000895  0.001149  0.000875  ...    0.007813  0.007125  0.007003   \n",
       "1  0.003062  0.005137  0.005035  ...    0.004200  0.003512  0.003417   \n",
       "2  0.000427  0.000661  0.000682  ...    0.006389  0.005934  0.005728   \n",
       "3  0.002848  0.003103  0.002675  ...    0.009948  0.009983  0.009573   \n",
       "4  0.002096  0.001912  0.002126  ...    0.007976  0.007139  0.006607   \n",
       "\n",
       "        822       823       824       825       826       827  class  \n",
       "0  0.005815  0.005371  0.004939  0.004250  0.003440  0.066753     c1  \n",
       "1  0.002676  0.002348  0.002380  0.001841  0.001111  0.076947     c1  \n",
       "2  0.005088  0.004578  0.004144  0.003558  0.002408  0.062309     c1  \n",
       "3  0.009854  0.010007  0.010347  0.010253  0.008810  0.128738     c2  \n",
       "4  0.006098  0.006132  0.005408  0.005182  0.004197  0.155593     c2  \n",
       "\n",
       "[5 rows x 828 columns]"
      ]
     },
     "execution_count": 3,
     "metadata": {},
     "output_type": "execute_result"
    }
   ],
   "source": [
    "data.head()"
   ]
  },
  {
   "cell_type": "code",
   "execution_count": 4,
   "metadata": {},
   "outputs": [],
   "source": [
    "X = data.drop(columns=['class'])"
   ]
  },
  {
   "cell_type": "code",
   "execution_count": 5,
   "metadata": {},
   "outputs": [],
   "source": [
    "from sklearn import preprocessing"
   ]
  },
  {
   "cell_type": "code",
   "execution_count": 6,
   "metadata": {},
   "outputs": [],
   "source": [
    "scaler = preprocessing.StandardScaler().fit(X)\n",
    "X = scaler.transform(X)   "
   ]
  },
  {
   "cell_type": "code",
   "execution_count": 7,
   "metadata": {},
   "outputs": [],
   "source": [
    "y = data['class']"
   ]
  },
  {
   "cell_type": "code",
   "execution_count": 8,
   "metadata": {},
   "outputs": [],
   "source": [
    "from sklearn.pipeline import make_pipeline\n",
    "from sklearn.model_selection import cross_val_score"
   ]
  },
  {
   "cell_type": "code",
   "execution_count": 9,
   "metadata": {},
   "outputs": [],
   "source": [
    "from sklearn.svm import LinearSVC"
   ]
  },
  {
   "cell_type": "code",
   "execution_count": 34,
   "metadata": {},
   "outputs": [],
   "source": [
    "linear_svm = LinearSVC(C=0.13)"
   ]
  },
  {
   "cell_type": "code",
   "execution_count": 35,
   "metadata": {},
   "outputs": [],
   "source": [
    "score = np.mean(cross_val_score(linear_svm, X, y, cv=10))"
   ]
  },
  {
   "cell_type": "code",
   "execution_count": 36,
   "metadata": {},
   "outputs": [
    {
     "data": {
      "text/plain": [
       "0.836"
      ]
     },
     "execution_count": 36,
     "metadata": {},
     "output_type": "execute_result"
    }
   ],
   "source": [
    "score"
   ]
  },
  {
   "cell_type": "code",
   "execution_count": null,
   "metadata": {},
   "outputs": [],
   "source": [
    "#0.15 => 0.837"
   ]
  }
 ],
 "metadata": {
  "kernelspec": {
   "display_name": "Python 3",
   "language": "python",
   "name": "python3"
  },
  "language_info": {
   "codemirror_mode": {
    "name": "ipython",
    "version": 3
   },
   "file_extension": ".py",
   "mimetype": "text/x-python",
   "name": "python",
   "nbconvert_exporter": "python",
   "pygments_lexer": "ipython3",
   "version": "3.7.0"
  }
 },
 "nbformat": 4,
 "nbformat_minor": 2
}
